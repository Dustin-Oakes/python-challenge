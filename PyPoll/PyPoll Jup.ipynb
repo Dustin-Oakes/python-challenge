{
 "cells": [
  {
   "cell_type": "code",
   "execution_count": null,
   "metadata": {},
   "outputs": [],
   "source": [
    "##### PyPoll #####\n",
    "# PyPoll Instructions\n",
    "#\n",
    "# In this challenge, you are tasked with helping a small, rural town modernize its vote counting process.\n",
    "#\n",
    "# You will be given a set of poll data called [election_data.csv](PyPoll/Resources/election_data.csv). The dataset is composed of three columns:\n",
    "# \"Voter ID\", \"County\", and \"Candidate\". Your task is to create a Python script that analyzes the votes and calculates each of the following:\n",
    "#\n",
    "#  - The total number of votes cast\n",
    "#\n",
    "#  - A complete list of candidates who received votes\n",
    "#\n",
    "#  - The percentage of votes each candidate won\n",
    "#\n",
    "#  - The total number of votes each candidate won\n",
    "#\n",
    "#  - The winner of the election based on popular vote.\n",
    "#\n",
    "# Your analysis should look similar to the following:\n",
    "#\n",
    "#\n",
    "#  ```text\n",
    "#  Election Results\n",
    "#  -------------------------\n",
    "#  Total Votes: 369711\n",
    "#  -------------------------\n",
    "#  Charles Casper Stockham: 23.049% (85213)\n",
    "#  Diana DeGette: 73.812% (272892)\n",
    "#  Raymon Anthony Doane: 3.139% (11606)\n",
    "#  -------------------------\n",
    "#  Winner: Diana DeGette\n",
    "#  -------------------------\n",
    "#  ```\n",
    "#\n",
    "# In addition, your final script should both print the analysis to the terminal and export a text file with the results.\n",
    "#\n",
    "###########"
   ]
  },
  {
   "cell_type": "code",
   "execution_count": 5,
   "metadata": {},
   "outputs": [],
   "source": [
    "#Imports and Variable initialization\n",
    "import os, csv\n",
    "voteCount = 0\n",
    "candidateNames = []\n",
    "voteList = []\n",
    "winningNumVotes = 0\n",
    "winningCandidate = \"none\"\n",
    "currentCandidateTotalVotes = 0\n",
    "csvPath = './Resources/election_data.csv'"
   ]
  },
  {
   "cell_type": "code",
   "execution_count": 6,
   "metadata": {},
   "outputs": [
    {
     "name": "stdout",
     "output_type": "stream",
     "text": [
      "\n"
     ]
    }
   ],
   "source": [
    "#Load file as a CSV object\n",
    "with open(csvPath, 'r') as csvFile:\n",
    "    csvReader = csv.reader(csvFile, delimiter=\",\")\n",
    "\n",
    "    #For each row in the CSV object, check for new candidateNames and add the vote to the voteList\n",
    "    for currentRow in csvReader:\n",
    "        \n",
    "        #If checking the header row, use a null task to skip\n",
    "        if voteCount == 0:\n",
    "            print()\n",
    "        else:\n",
    "\n",
    "            #Add candidateNames if this candidate is not already on the list\n",
    "            if candidateNames.count(currentRow[1]) < 1:\n",
    "                candidateNames.append(currentRow[1])\n",
    "\n",
    "            voteList.append(currentRow[1])\n",
    "\n",
    "        #Every loop in for should iterate monthCount, which is currently used as the line count\n",
    "        voteCount += 1\n",
    "\n",
    "\n",
    "#After the loop, adjust voteCount to account for the header row\n",
    "voteCount -= 1"
   ]
  },
  {
   "cell_type": "code",
   "execution_count": 9,
   "metadata": {},
   "outputs": [
    {
     "name": "stdout",
     "output_type": "stream",
     "text": [
      "['Jefferson', 'Denver', 'Arapahoe']\n"
     ]
    }
   ],
   "source": [
    "print(candidateNames)"
   ]
  },
  {
   "cell_type": "code",
   "execution_count": 11,
   "metadata": {},
   "outputs": [
    {
     "name": "stdout",
     "output_type": "stream",
     "text": [
      "Election Results\n",
      "-------------------------\n",
      "Total Votes: 369711\n",
      "-------------------------\n",
      "Jefferson: 10.51% (38855)\n",
      "Denver: 82.782% (306055)\n",
      "Arapahoe: 6.708% (24801)\n",
      "-------------------------\n",
      "Winner: Denver\n",
      "-------------------------\n"
     ]
    }
   ],
   "source": [
    "#Start printing results\n",
    "print('Election Results')\n",
    "print('-------------------------')\n",
    "print('Total Votes: ' + str(voteCount))\n",
    "print('-------------------------')\n",
    "\n",
    "#For each Candidate\n",
    "for i in candidateNames:\n",
    "    \n",
    "    currentCandidateTotalVotes = voteList.count(i)\n",
    "\n",
    "    #Check if winning\n",
    "    if winningNumVotes < currentCandidateTotalVotes:\n",
    "        winningNumVotes = currentCandidateTotalVotes\n",
    "        winningCandidate = i\n",
    "\n",
    "    #Print candidate results\n",
    "    print(i + ': ' +  str(round(100 * currentCandidateTotalVotes / voteCount , 3)) + '% (' + str(currentCandidateTotalVotes) + ')')\n",
    "\n",
    "#print winner\n",
    "\n",
    "print('-------------------------')\n",
    "print('Winner: ' + winningCandidate)\n",
    "print('-------------------------')"
   ]
  },
  {
   "cell_type": "code",
   "execution_count": 12,
   "metadata": {},
   "outputs": [],
   "source": [
    "#Export results to a text file\n",
    "with open('./analysis/Results.txt', 'w') as txtResults:\n",
    "    txtResults.write('Election Results')\n",
    "    txtResults.write('\\n')\n",
    "    txtResults.write('-------------------------')\n",
    "    txtResults.write('\\n')\n",
    "    txtResults.write('Total Votes: ' + str(voteCount))\n",
    "    txtResults.write('\\n')\n",
    "    txtResults.write('-------------------------')\n",
    "    txtResults.write('\\n')\n",
    "\n",
    "    #For each Candidate\n",
    "    for i in candidateNames:\n",
    "        #Write candidate results (winner already determined)\n",
    "        txtResults.write(i + ': ' +  str(round(100 * currentCandidateTotalVotes / voteCount , 3)) + '% (' + str(currentCandidateTotalVotes) + ')')\n",
    "        txtResults.write('\\n')\n",
    "\n",
    "    txtResults.write('-------------------------')\n",
    "    txtResults.write('\\n')\n",
    "    txtResults.write('Winner: ' + winningCandidate)\n",
    "    txtResults.write('\\n')\n",
    "    txtResults.write('-------------------------')"
   ]
  }
 ],
 "metadata": {
  "kernelspec": {
   "display_name": "base",
   "language": "python",
   "name": "python3"
  },
  "language_info": {
   "codemirror_mode": {
    "name": "ipython",
    "version": 3
   },
   "file_extension": ".py",
   "mimetype": "text/x-python",
   "name": "python",
   "nbconvert_exporter": "python",
   "pygments_lexer": "ipython3",
   "version": "3.9.12"
  },
  "orig_nbformat": 4,
  "vscode": {
   "interpreter": {
    "hash": "4dd0244612a862df7dbcc4897be0e74f628f2313b0c83ac08136739c948bf3e5"
   }
  }
 },
 "nbformat": 4,
 "nbformat_minor": 2
}
