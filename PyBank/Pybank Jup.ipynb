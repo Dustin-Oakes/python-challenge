{
 "cells": [
  {
   "cell_type": "code",
   "execution_count": 28,
   "metadata": {},
   "outputs": [],
   "source": [
    "##### PyBank #####\n",
    "# PyBank Instructions\n",
    "#\n",
    "# In this challenge, you are tasked with creating a Python script to analyze the financial records of your company.\n",
    "# You will give a set of financial data called [budget_data.csv](PyBank/Resources/budget_data.csv).\n",
    "# The dataset is composed of two columns: \"Date\" and \"Profit/Losses\". (Thankfully, your company has rather lax standards for accounting, so the records are simple.)\n",
    "#\n",
    "# Your task is to create a Python script that analyzes the records to calculate each of the following:\n",
    "#\n",
    "#  - The total number of months included in the dataset\n",
    "#\n",
    "#  - The net total amount of \"Profit/Losses\" over the entire period\n",
    "#\n",
    "#  - The changes in \"Profit/Losses\" over the entire period, and then the average of those changes\n",
    "#\n",
    "#  - The greatest increase in profits (date and amount) over the entire period\n",
    "#\n",
    "#  - The greatest decrease in profits (date and amount) over the entire period\n",
    "#\n",
    "# Your analysis should look similar to the following:\n",
    "#\n",
    "#  ```text\n",
    "#  Financial Analysis\n",
    "#  ----------------------------\n",
    "#  Total Months: 86\n",
    "#  Total: $22564198\n",
    "#  Average Change: $-8311.11\n",
    "#  Greatest Increase in Profits: Aug-16 ($1862002)\n",
    "#  Greatest Decrease in Profits: Feb-14 ($-1825558)\n",
    "#  ```\n",
    "#\n",
    "# In addition, your final script should both print the analysis to the terminal and export a text file with the results.\n",
    "#\n",
    "###########"
   ]
  },
  {
   "cell_type": "code",
   "execution_count": 29,
   "metadata": {},
   "outputs": [],
   "source": [
    "#Variables\n",
    "import os, csv\n",
    "\n",
    "monthCount = 0\n",
    "totalChange = 0\n",
    "greatestIncrease = 0\n",
    "greatestIncreaseDate = \"None\"\n",
    "greatestDecrease = 0\n",
    "greatestDecreaseDate = \"None\"\n",
    "\n",
    "csvPath = './Resources/budget_data.csv'"
   ]
  },
  {
   "cell_type": "code",
   "execution_count": 32,
   "metadata": {},
   "outputs": [
    {
     "name": "stdout",
     "output_type": "stream",
     "text": [
      "\n"
     ]
    }
   ],
   "source": [
    "#Load file, possibly to an array or two arrays\n",
    "with open(csvPath, 'r') as csvFile:\n",
    "    csvReader = csv.reader(csvFile, delimiter=\",\")\n",
    "\n",
    "    for currentRow in csvReader:\n",
    "        \n",
    "        if monthCount == 0:\n",
    "            #null task, skip header row\n",
    "            print()\n",
    "        else:\n",
    "            totalChange = totalChange + int(currentRow[1])\n",
    "\n",
    "            if int(currentRow[1]) > int(greatestIncrease):\n",
    "                greatestIncrease = currentRow[1]\n",
    "                greatestIncreaseDate = currentRow[0]\n",
    "\n",
    "            if int(currentRow[1]) < int(greatestDecrease):\n",
    "                greatestDecrease = currentRow[1]\n",
    "                greatestDecreaseDate = currentRow[0]\n",
    "\n",
    "        #Every loop in for should iterate monthCount, which is currently used as the line count\n",
    "        monthCount += 1\n",
    "\n",
    "#To account for header\n",
    "monthCount -= 1\n"
   ]
  },
  {
   "cell_type": "code",
   "execution_count": null,
   "metadata": {},
   "outputs": [],
   "source": [
    "#Write results to terminal and export a text file"
   ]
  }
 ],
 "metadata": {
  "kernelspec": {
   "display_name": "base",
   "language": "python",
   "name": "python3"
  },
  "language_info": {
   "codemirror_mode": {
    "name": "ipython",
    "version": 3
   },
   "file_extension": ".py",
   "mimetype": "text/x-python",
   "name": "python",
   "nbconvert_exporter": "python",
   "pygments_lexer": "ipython3",
   "version": "3.9.12"
  },
  "orig_nbformat": 4,
  "vscode": {
   "interpreter": {
    "hash": "4dd0244612a862df7dbcc4897be0e74f628f2313b0c83ac08136739c948bf3e5"
   }
  }
 },
 "nbformat": 4,
 "nbformat_minor": 2
}
