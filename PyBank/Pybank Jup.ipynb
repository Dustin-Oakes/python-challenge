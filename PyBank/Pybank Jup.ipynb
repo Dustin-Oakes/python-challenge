{
 "cells": [
  {
   "cell_type": "code",
   "execution_count": null,
   "metadata": {},
   "outputs": [],
   "source": [
    "##### PyBank #####\n",
    "# PyBank Instructions\n",
    "#\n",
    "# In this challenge, you are tasked with creating a Python script to analyze the financial records of your company.\n",
    "# You will give a set of financial data called [budget_data.csv](PyBank/Resources/budget_data.csv).\n",
    "# The dataset is composed of two columns: \"Date\" and \"Profit/Losses\". (Thankfully, your company has rather lax standards for accounting, so the records are simple.)\n",
    "#\n",
    "# Your task is to create a Python script that analyzes the records to calculate each of the following:\n",
    "#\n",
    "#  - The total number of months included in the dataset\n",
    "#\n",
    "#  - The net total amount of \"Profit/Losses\" over the entire period\n",
    "#\n",
    "#  - The changes in \"Profit/Losses\" over the entire period, and then the average of those changes\n",
    "#\n",
    "#  - The greatest increase in profits (date and amount) over the entire period\n",
    "#\n",
    "#  - The greatest decrease in profits (date and amount) over the entire period\n",
    "#\n",
    "# Your analysis should look similar to the following:\n",
    "#\n",
    "#  ```text\n",
    "#  Financial Analysis\n",
    "#  ----------------------------\n",
    "#  Total Months: 86\n",
    "#  Total: $22564198\n",
    "#  Average Change: $-8311.11\n",
    "#  Greatest Increase in Profits: Aug-16 ($1862002)\n",
    "#  Greatest Decrease in Profits: Feb-14 ($-1825558)\n",
    "#  ```\n",
    "#\n",
    "# In addition, your final script should both print the analysis to the terminal and export a text file with the results.\n",
    "#\n",
    "###########"
   ]
  },
  {
   "cell_type": "code",
   "execution_count": null,
   "metadata": {},
   "outputs": [],
   "source": [
    "#Variables\n",
    "\n",
    "monthCount = 0\n",
    "totalChange = 0\n",
    "greatestIncrease = 0\n",
    "greatestIncreaseDate = \"None\"\n",
    "greatestDecrease = 0\n",
    "greatestDecreaseDate = \"None\""
   ]
  },
  {
   "cell_type": "code",
   "execution_count": null,
   "metadata": {},
   "outputs": [],
   "source": [
    "#Load file, possibly to an array or two arrays"
   ]
  },
  {
   "cell_type": "code",
   "execution_count": null,
   "metadata": {},
   "outputs": [],
   "source": [
    "#Loop: Read file line by line and collect data\n",
    "\n",
    "    #per line, iterate monthCount\n",
    "    #sum totalChange\n",
    "    #compare greatestIncrease (plus write Date)\n",
    "    #compare greatestDecrease (plus write Date)"
   ]
  },
  {
   "cell_type": "code",
   "execution_count": null,
   "metadata": {},
   "outputs": [],
   "source": [
    "#Write results to terminal and export a text file"
   ]
  }
 ],
 "metadata": {
  "kernelspec": {
   "display_name": "Python 3",
   "language": "python",
   "name": "python3"
  },
  "language_info": {
   "name": "python",
   "version": "3.9.12 (main, Apr  4 2022, 05:22:27) [MSC v.1916 64 bit (AMD64)]"
  },
  "orig_nbformat": 4,
  "vscode": {
   "interpreter": {
    "hash": "19d1d53a962d236aa061289c2ac16dc8e6d9648c89fe79f459ae9a3493bc67b4"
   }
  }
 },
 "nbformat": 4,
 "nbformat_minor": 2
}
